# Install necessary libraries
# langchain: For building language model applications
# openai: For interacting with the OpenAI API
# gradio: For creating a web-based user interface
# huggingface_hub: For interacting with the Hugging Face Hub
!pip install langchain
!pip install openai
!pip install gradio
!pip install huggingface_hub

import os
import re
import requests
import json
import gradio as gr
from langchain.chat_models import ChatOpenAI
from langchain import LLMChain, PromptTemplate
from langchain.memory import ConversationBufferMemory

# Set API keys and user ID for OpenAI and PlayHT
# Note: In a real application, you should use environment variables or a secrets manager
# instead of hardcoding API keys directly in your code.
OPENAI_API_KEY="API_KEY" # Replace with your OpenAI API key
PLAY_HT_API_KEY="28762e8a31634239a49708feec20ee36" # Replace with your PlayHT API key
PLAY_HT_USER_ID="3enEaJph4oh8jamkYrZt39Ci57H2" # Replace with your PlayHT User ID

# Set the OpenAI API key as an environment variable
os.environ["OPENAI_API_KEY"] = OPENAI_API_KEY

# Define the API endpoint for PlayHT Text-to-Speech
play_ht_api_get_audio_url = "https://play.ht/api/v2/tts"
# Define the PlayHT voice ID to use for generating audio
PLAY_HT_VOICE_ID="s3://voice-cloning-zero-shot/47bf8f6f-2d09-4b2f-8bca-32fcbf97a38f/surya/manifest.json" # Replace with your PlayHT Voice ID

# Define the template for the chatbot prompt
template = """You are a helpful assistant to answer user queries.
{chat_history}
User: {user_message}
Chatbot:"""

# Create a PromptTemplate object
prompt = PromptTemplate(
    input_variables=["chat_history", "user_message"], template=template
)

# Create a ConversationBufferMemory object to store chat history
memory = ConversationBufferMemory(memory_key="chat_history")

# Initialize the LLMChain with ChatOpenAI model, prompt, and memory
llm_chain = LLMChain(
    llm=ChatOpenAI(temperature='0.5', model_name="gpt-3.5-turbo"),
    prompt=prompt,
    verbose=True,
    memory=memory,
)

# Define headers for PlayHT API requests
headers = {
      "accept": "text/event-stream",
      "content-type": "application/json",
      "AUTHORIZATION": "Bearer "+ PLAY_HT_API_KEY,
      "X-USER-ID": PLAY_HT_USER_ID
}

# Function to generate the payload for PlayHT API
def get_payload(text):
  return {
    "text": text,
    "voice": PLAY_HT_VOICE_ID,
    "quality": "medium",
    "output_format": "mp3",
    "speed": 1,
    "sample_rate": 24000,
    "seed": None,
    "temperature": None
  }

# Function to get the generated audio from PlayHT API
def get_generated_audio(text):
  payload = get_payload(text)
  generated_response = {}
  try:
      response = requests.post(play_ht_api_get_audio_url, json=payload, headers=headers)
      response.raise_for_status()
      generated_response["type"]= 'SUCCESS'
      generated_response["response"] = response.text
  except requests.exceptions.RequestException as e:
      generated_response["type"]= 'ERROR'
      try:
        response_text = json.loads(response.text)
        if response_text['error_message']:
          generated_response["response"] = response_text['error_message']
        else:
          generated_response["response"] = response.text
      except Exception as e:
        generated_response["response"] = response.text
  except Exception as e:
    generated_response["type"]= 'ERROR'
    generated_response["response"] = response.text
  return generated_response

# Function to extract URLs from text
def extract_urls(text):
    # Define the regex pattern for URLs
    url_pattern = r'https?://(?:[-\w.]|(?:%[\da-fA-F]{2}))+[/\w\.-]*'

    # Find all occurrences of URLs in the text
    urls = re.findall(url_pattern, text)

    return urls

# Function to get the audio reply URL for a given text
def get_audio_reply_for_question(text):
  generated_audio_event = get_generated_audio(text)
  #From get_generated_audio, you will get events in a string format, from that we need to extract the url
  final_response = {
      "audio_url": '',
      "message": ''
  }
  if generated_audio_event["type"] == 'SUCCESS':
    audio_urls = extract_urls(generated_audio_event["response"])
    if len(audio_urls) == 0:
      final_response['message'] = "No audio file link found in generated event"
    else:
      final_response['audio_url'] = audio_urls[-1]
  else:
    final_response['message'] = generated_audio_event['response']
  return final_response

# Function to download a file from a given URL
def download_url(url):
    try:
        # Send a GET request to the URL to fetch the content
        final_response = {
            'content':'',
            'error':''
        }
        response = requests.get(url)
        # Check if the request was successful (status code 200)
        if response.status_code == 200:
            final_response['content'] = response.content
        else:
            final_response['error'] = f"Failed to download the URL. Status code: {response.status_code}"
    except Exception as e:
        final_response['error'] = f"Failed to download the URL. Error: {e}"
    return final_response

# Function to extract the filename from a URL
def get_filename_from_url(url):
    # Use os.path.basename() to extract the file name from the URL
    file_name = os.path.basename(url)
    return file_name

# Function to get the text response from the LLM chain
def get_text_response(user_message):
    response = llm_chain.predict(user_message = user_message)
    return response

# Function to get both text and audio responses
def get_text_response_and_audio_response(user_message):
    response = get_text_response(user_message) # Getting the reply from Open AI
    audio_reply_for_question_response = get_audio_reply_for_question(response)
    final_response = {
        'output_file_path': '',
        'message':''
    }
    audio_url = audio_reply_for_question_response['audio_url']
    if audio_url:
      output_file_path=get_filename_from_url(audio_url)
      download_url_response = download_url(audio_url)
      audio_content = download_url_response['content']
      if audio_content:
        with open(output_file_path, "wb") as audio_file:
          audio_file.write(audio_content)
          final_response['output_file_path'] = output_file_path
      else:
          final_response['message'] = download_url_response['error']
    else:
      final_response['message'] = audio_reply_for_question_response['message']
    return final_response

# Function to handle the chatbot response for Gradio interface
def chat_bot_response(message, history):
    text_and_audio_response = get_text_response_and_audio_response(message)
    output_file_path = text_and_audio_response['output_file_path']
    if output_file_path:
      # Return the path to the audio file for Gradio to display
      return (text_and_audio_response['output_file_path'],)
    else:
      # Return the error message if audio generation failed
      return text_and_audio_response['message']

# Create a Gradio ChatInterface
demo = gr.ChatInterface(chat_bot_response,examples=["How are you doing?","What are your interests?","Which places do you like to visit?"])

# Launch the Gradio interface
# To create a public link, set `share=True` in `launch()`.
# To enable errors and logs, set `debug=True` in `launch()`.
if __name__ == "__main__":
    demo.launch()
